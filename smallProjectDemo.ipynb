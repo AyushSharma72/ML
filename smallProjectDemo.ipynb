{
 "cells": [
  {
   "cell_type": "code",
   "execution_count": 24,
   "id": "ffd1b1b0-d825-41d7-bc90-ca825274f53f",
   "metadata": {},
   "outputs": [
    {
     "name": "stdout",
     "output_type": "stream",
     "text": [
      "E:\\Anacondas\\python.exe\n",
      "C:\\Users\\ayush\\AppData\\Local\\Programs\\Python\\Python313\\python.exe\n",
      "C:\\Users\\ayush\\AppData\\Local\\Microsoft\\WindowsApps\\python.exe\n"
     ]
    }
   ],
   "source": [
    "!where python"
   ]
  },
  {
   "cell_type": "code",
   "execution_count": 25,
   "id": "a3808c6d-0df7-4491-b77f-3ecf4bdd9bb7",
   "metadata": {},
   "outputs": [
    {
     "data": {
      "text/html": [
       "<div>\n",
       "<style scoped>\n",
       "    .dataframe tbody tr th:only-of-type {\n",
       "        vertical-align: middle;\n",
       "    }\n",
       "\n",
       "    .dataframe tbody tr th {\n",
       "        vertical-align: top;\n",
       "    }\n",
       "\n",
       "    .dataframe thead th {\n",
       "        text-align: right;\n",
       "    }\n",
       "</style>\n",
       "<table border=\"1\" class=\"dataframe\">\n",
       "  <thead>\n",
       "    <tr style=\"text-align: right;\">\n",
       "      <th></th>\n",
       "      <th>Unnamed: 0</th>\n",
       "      <th>cgpa</th>\n",
       "      <th>iq</th>\n",
       "      <th>placement</th>\n",
       "    </tr>\n",
       "  </thead>\n",
       "  <tbody>\n",
       "    <tr>\n",
       "      <th>0</th>\n",
       "      <td>0</td>\n",
       "      <td>6.8</td>\n",
       "      <td>123.0</td>\n",
       "      <td>1</td>\n",
       "    </tr>\n",
       "    <tr>\n",
       "      <th>1</th>\n",
       "      <td>1</td>\n",
       "      <td>5.9</td>\n",
       "      <td>106.0</td>\n",
       "      <td>0</td>\n",
       "    </tr>\n",
       "    <tr>\n",
       "      <th>2</th>\n",
       "      <td>2</td>\n",
       "      <td>5.3</td>\n",
       "      <td>121.0</td>\n",
       "      <td>0</td>\n",
       "    </tr>\n",
       "    <tr>\n",
       "      <th>3</th>\n",
       "      <td>3</td>\n",
       "      <td>7.4</td>\n",
       "      <td>132.0</td>\n",
       "      <td>1</td>\n",
       "    </tr>\n",
       "    <tr>\n",
       "      <th>4</th>\n",
       "      <td>4</td>\n",
       "      <td>5.8</td>\n",
       "      <td>142.0</td>\n",
       "      <td>0</td>\n",
       "    </tr>\n",
       "    <tr>\n",
       "      <th>5</th>\n",
       "      <td>5</td>\n",
       "      <td>7.1</td>\n",
       "      <td>48.0</td>\n",
       "      <td>1</td>\n",
       "    </tr>\n",
       "    <tr>\n",
       "      <th>6</th>\n",
       "      <td>6</td>\n",
       "      <td>5.7</td>\n",
       "      <td>143.0</td>\n",
       "      <td>0</td>\n",
       "    </tr>\n",
       "    <tr>\n",
       "      <th>7</th>\n",
       "      <td>7</td>\n",
       "      <td>5.0</td>\n",
       "      <td>63.0</td>\n",
       "      <td>0</td>\n",
       "    </tr>\n",
       "    <tr>\n",
       "      <th>8</th>\n",
       "      <td>8</td>\n",
       "      <td>6.1</td>\n",
       "      <td>156.0</td>\n",
       "      <td>0</td>\n",
       "    </tr>\n",
       "    <tr>\n",
       "      <th>9</th>\n",
       "      <td>9</td>\n",
       "      <td>5.1</td>\n",
       "      <td>66.0</td>\n",
       "      <td>0</td>\n",
       "    </tr>\n",
       "  </tbody>\n",
       "</table>\n",
       "</div>"
      ],
      "text/plain": [
       "   Unnamed: 0  cgpa     iq  placement\n",
       "0           0   6.8  123.0          1\n",
       "1           1   5.9  106.0          0\n",
       "2           2   5.3  121.0          0\n",
       "3           3   7.4  132.0          1\n",
       "4           4   5.8  142.0          0\n",
       "5           5   7.1   48.0          1\n",
       "6           6   5.7  143.0          0\n",
       "7           7   5.0   63.0          0\n",
       "8           8   6.1  156.0          0\n",
       "9           9   5.1   66.0          0"
      ]
     },
     "execution_count": 25,
     "metadata": {},
     "output_type": "execute_result"
    }
   ],
   "source": [
    "import numpy as np\n",
    "import pandas as pd\n",
    "df = pd.read_csv('placement.csv')\n",
    "df.head(10)  #show first 10 cells only"
   ]
  },
  {
   "cell_type": "code",
   "execution_count": 26,
   "id": "68aa45c3-f1da-44aa-af64-d6b72dbb798a",
   "metadata": {},
   "outputs": [
    {
     "data": {
      "text/plain": [
       "(100, 4)"
      ]
     },
     "execution_count": 26,
     "metadata": {},
     "output_type": "execute_result"
    }
   ],
   "source": [
    "df.shape  # what are the dimensions of the table"
   ]
  },
  {
   "cell_type": "code",
   "execution_count": 27,
   "id": "3823535a-32c0-4cea-8244-527cd2b8778b",
   "metadata": {},
   "outputs": [
    {
     "data": {
      "text/html": [
       "<div>\n",
       "<style scoped>\n",
       "    .dataframe tbody tr th:only-of-type {\n",
       "        vertical-align: middle;\n",
       "    }\n",
       "\n",
       "    .dataframe tbody tr th {\n",
       "        vertical-align: top;\n",
       "    }\n",
       "\n",
       "    .dataframe thead th {\n",
       "        text-align: right;\n",
       "    }\n",
       "</style>\n",
       "<table border=\"1\" class=\"dataframe\">\n",
       "  <thead>\n",
       "    <tr style=\"text-align: right;\">\n",
       "      <th></th>\n",
       "      <th>cgpa</th>\n",
       "      <th>iq</th>\n",
       "      <th>placement</th>\n",
       "    </tr>\n",
       "  </thead>\n",
       "  <tbody>\n",
       "    <tr>\n",
       "      <th>0</th>\n",
       "      <td>6.8</td>\n",
       "      <td>123.0</td>\n",
       "      <td>1</td>\n",
       "    </tr>\n",
       "    <tr>\n",
       "      <th>1</th>\n",
       "      <td>5.9</td>\n",
       "      <td>106.0</td>\n",
       "      <td>0</td>\n",
       "    </tr>\n",
       "    <tr>\n",
       "      <th>2</th>\n",
       "      <td>5.3</td>\n",
       "      <td>121.0</td>\n",
       "      <td>0</td>\n",
       "    </tr>\n",
       "    <tr>\n",
       "      <th>3</th>\n",
       "      <td>7.4</td>\n",
       "      <td>132.0</td>\n",
       "      <td>1</td>\n",
       "    </tr>\n",
       "    <tr>\n",
       "      <th>4</th>\n",
       "      <td>5.8</td>\n",
       "      <td>142.0</td>\n",
       "      <td>0</td>\n",
       "    </tr>\n",
       "    <tr>\n",
       "      <th>...</th>\n",
       "      <td>...</td>\n",
       "      <td>...</td>\n",
       "      <td>...</td>\n",
       "    </tr>\n",
       "    <tr>\n",
       "      <th>95</th>\n",
       "      <td>4.3</td>\n",
       "      <td>200.0</td>\n",
       "      <td>0</td>\n",
       "    </tr>\n",
       "    <tr>\n",
       "      <th>96</th>\n",
       "      <td>4.4</td>\n",
       "      <td>42.0</td>\n",
       "      <td>0</td>\n",
       "    </tr>\n",
       "    <tr>\n",
       "      <th>97</th>\n",
       "      <td>6.7</td>\n",
       "      <td>182.0</td>\n",
       "      <td>1</td>\n",
       "    </tr>\n",
       "    <tr>\n",
       "      <th>98</th>\n",
       "      <td>6.3</td>\n",
       "      <td>103.0</td>\n",
       "      <td>1</td>\n",
       "    </tr>\n",
       "    <tr>\n",
       "      <th>99</th>\n",
       "      <td>6.2</td>\n",
       "      <td>113.0</td>\n",
       "      <td>1</td>\n",
       "    </tr>\n",
       "  </tbody>\n",
       "</table>\n",
       "<p>100 rows × 3 columns</p>\n",
       "</div>"
      ],
      "text/plain": [
       "    cgpa     iq  placement\n",
       "0    6.8  123.0          1\n",
       "1    5.9  106.0          0\n",
       "2    5.3  121.0          0\n",
       "3    7.4  132.0          1\n",
       "4    5.8  142.0          0\n",
       "..   ...    ...        ...\n",
       "95   4.3  200.0          0\n",
       "96   4.4   42.0          0\n",
       "97   6.7  182.0          1\n",
       "98   6.3  103.0          1\n",
       "99   6.2  113.0          1\n",
       "\n",
       "[100 rows x 3 columns]"
      ]
     },
     "execution_count": 27,
     "metadata": {},
     "output_type": "execute_result"
    }
   ],
   "source": [
    "df = df.iloc[:,1:]  ## iloc[:,1:] [row,column] show all the rows but remove the first column and then show the rest \n",
    "df"
   ]
  },
  {
   "cell_type": "markdown",
   "id": "ba5ccf37-daee-4187-b12c-699994c96ec9",
   "metadata": {},
   "source": [
    "## plot the data by matplotlib"
   ]
  },
  {
   "cell_type": "code",
   "execution_count": 28,
   "id": "f7429297-3443-4e49-98c5-500e35ac0989",
   "metadata": {},
   "outputs": [
    {
     "data": {
      "text/plain": [
       "<matplotlib.collections.PathCollection at 0x20d8eab8f50>"
      ]
     },
     "execution_count": 28,
     "metadata": {},
     "output_type": "execute_result"
    },
    {
     "data": {
      "image/png": "[encoded data removed]",
      "text/plain": [
       "<Figure size 640x480 with 1 Axes>"
      ]
     },
     "metadata": {},
     "output_type": "display_data"
    }
   ],
   "source": [
    "import matplotlib.pyplot as plt\n",
    "plt.scatter(df['cgpa'],df['iq'],c=df['placement'])  ## scatter method only accept numerical values c=df['placement'] is used to color the plots"
   ]
  },
  {
   "cell_type": "code",
   "execution_count": 31,
   "id": "6553d276-68e9-42d1-862c-0c354a00a44d",
   "metadata": {},
   "outputs": [
    {
     "data": {
      "text/html": [
       "<div>\n",
       "<style scoped>\n",
       "    .dataframe tbody tr th:only-of-type {\n",
       "        vertical-align: middle;\n",
       "    }\n",
       "\n",
       "    .dataframe tbody tr th {\n",
       "        vertical-align: top;\n",
       "    }\n",
       "\n",
       "    .dataframe thead th {\n",
       "        text-align: right;\n",
       "    }\n",
       "</style>\n",
       "<table border=\"1\" class=\"dataframe\">\n",
       "  <thead>\n",
       "    <tr style=\"text-align: right;\">\n",
       "      <th></th>\n",
       "      <th>cgpa</th>\n",
       "      <th>iq</th>\n",
       "    </tr>\n",
       "  </thead>\n",
       "  <tbody>\n",
       "    <tr>\n",
       "      <th>0</th>\n",
       "      <td>6.8</td>\n",
       "      <td>123.0</td>\n",
       "    </tr>\n",
       "    <tr>\n",
       "      <th>1</th>\n",
       "      <td>5.9</td>\n",
       "      <td>106.0</td>\n",
       "    </tr>\n",
       "    <tr>\n",
       "      <th>2</th>\n",
       "      <td>5.3</td>\n",
       "      <td>121.0</td>\n",
       "    </tr>\n",
       "    <tr>\n",
       "      <th>3</th>\n",
       "      <td>7.4</td>\n",
       "      <td>132.0</td>\n",
       "    </tr>\n",
       "    <tr>\n",
       "      <th>4</th>\n",
       "      <td>5.8</td>\n",
       "      <td>142.0</td>\n",
       "    </tr>\n",
       "    <tr>\n",
       "      <th>...</th>\n",
       "      <td>...</td>\n",
       "      <td>...</td>\n",
       "    </tr>\n",
       "    <tr>\n",
       "      <th>95</th>\n",
       "      <td>4.3</td>\n",
       "      <td>200.0</td>\n",
       "    </tr>\n",
       "    <tr>\n",
       "      <th>96</th>\n",
       "      <td>4.4</td>\n",
       "      <td>42.0</td>\n",
       "    </tr>\n",
       "    <tr>\n",
       "      <th>97</th>\n",
       "      <td>6.7</td>\n",
       "      <td>182.0</td>\n",
       "    </tr>\n",
       "    <tr>\n",
       "      <th>98</th>\n",
       "      <td>6.3</td>\n",
       "      <td>103.0</td>\n",
       "    </tr>\n",
       "    <tr>\n",
       "      <th>99</th>\n",
       "      <td>6.2</td>\n",
       "      <td>113.0</td>\n",
       "    </tr>\n",
       "  </tbody>\n",
       "</table>\n",
       "<p>100 rows × 2 columns</p>\n",
       "</div>"
      ],
      "text/plain": [
       "    cgpa     iq\n",
       "0    6.8  123.0\n",
       "1    5.9  106.0\n",
       "2    5.3  121.0\n",
       "3    7.4  132.0\n",
       "4    5.8  142.0\n",
       "..   ...    ...\n",
       "95   4.3  200.0\n",
       "96   4.4   42.0\n",
       "97   6.7  182.0\n",
       "98   6.3  103.0\n",
       "99   6.2  113.0\n",
       "\n",
       "[100 rows x 2 columns]"
      ]
     },
     "execution_count": 31,
     "metadata": {},
     "output_type": "execute_result"
    }
   ],
   "source": [
    "X = df.iloc[:,0:2] ## include all rows and 0,1 columns\n",
    "Y = df.iloc[:,-1] ## include all rows and last column\n",
    "X\n"
   ]
  },
  {
   "cell_type": "code",
   "execution_count": 32,
   "id": "f0326ad5-7cc5-4d06-b9f9-cf86e997805e",
   "metadata": {},
   "outputs": [
    {
     "data": {
      "text/plain": [
       "0     1\n",
       "1     0\n",
       "2     0\n",
       "3     1\n",
       "4     0\n",
       "     ..\n",
       "95    0\n",
       "96    0\n",
       "97    1\n",
       "98    1\n",
       "99    1\n",
       "Name: placement, Length: 100, dtype: int64"
      ]
     },
     "execution_count": 32,
     "metadata": {},
     "output_type": "execute_result"
    }
   ],
   "source": [
    "Y"
   ]
  },
  {
   "cell_type": "code",
   "execution_count": 35,
   "id": "bde25867-2dd8-4425-88c0-4744b4bf3a10",
   "metadata": {},
   "outputs": [],
   "source": [
    "from sklearn.model_selection import train_test_split\n",
    "X_train,X_test,Y_train,Y_test = train_test_split(X,Y,test_size=0.1) ## x is independent variable y is dependant variable and the \n",
    "## test_size=0.1 decides how much data we have to keep for training and the balance(0.9) will be used for training modal "
   ]
  },
  {
   "cell_type": "code",
   "execution_count": 36,
   "id": "393f237b-9360-4eaf-9d07-32a2ba92392f",
   "metadata": {},
   "outputs": [
    {
     "data": {
      "text/html": [
       "<div>\n",
       "<style scoped>\n",
       "    .dataframe tbody tr th:only-of-type {\n",
       "        vertical-align: middle;\n",
       "    }\n",
       "\n",
       "    .dataframe tbody tr th {\n",
       "        vertical-align: top;\n",
       "    }\n",
       "\n",
       "    .dataframe thead th {\n",
       "        text-align: right;\n",
       "    }\n",
       "</style>\n",
       "<table border=\"1\" class=\"dataframe\">\n",
       "  <thead>\n",
       "    <tr style=\"text-align: right;\">\n",
       "      <th></th>\n",
       "      <th>cgpa</th>\n",
       "      <th>iq</th>\n",
       "    </tr>\n",
       "  </thead>\n",
       "  <tbody>\n",
       "    <tr>\n",
       "      <th>34</th>\n",
       "      <td>4.8</td>\n",
       "      <td>163.0</td>\n",
       "    </tr>\n",
       "    <tr>\n",
       "      <th>71</th>\n",
       "      <td>6.1</td>\n",
       "      <td>132.0</td>\n",
       "    </tr>\n",
       "    <tr>\n",
       "      <th>25</th>\n",
       "      <td>5.0</td>\n",
       "      <td>91.0</td>\n",
       "    </tr>\n",
       "    <tr>\n",
       "      <th>44</th>\n",
       "      <td>7.5</td>\n",
       "      <td>61.0</td>\n",
       "    </tr>\n",
       "    <tr>\n",
       "      <th>23</th>\n",
       "      <td>4.7</td>\n",
       "      <td>87.0</td>\n",
       "    </tr>\n",
       "    <tr>\n",
       "      <th>...</th>\n",
       "      <td>...</td>\n",
       "      <td>...</td>\n",
       "    </tr>\n",
       "    <tr>\n",
       "      <th>40</th>\n",
       "      <td>4.9</td>\n",
       "      <td>134.0</td>\n",
       "    </tr>\n",
       "    <tr>\n",
       "      <th>70</th>\n",
       "      <td>6.3</td>\n",
       "      <td>127.0</td>\n",
       "    </tr>\n",
       "    <tr>\n",
       "      <th>26</th>\n",
       "      <td>7.0</td>\n",
       "      <td>199.0</td>\n",
       "    </tr>\n",
       "    <tr>\n",
       "      <th>29</th>\n",
       "      <td>7.0</td>\n",
       "      <td>112.0</td>\n",
       "    </tr>\n",
       "    <tr>\n",
       "      <th>63</th>\n",
       "      <td>6.3</td>\n",
       "      <td>128.0</td>\n",
       "    </tr>\n",
       "  </tbody>\n",
       "</table>\n",
       "<p>90 rows × 2 columns</p>\n",
       "</div>"
      ],
      "text/plain": [
       "    cgpa     iq\n",
       "34   4.8  163.0\n",
       "71   6.1  132.0\n",
       "25   5.0   91.0\n",
       "44   7.5   61.0\n",
       "23   4.7   87.0\n",
       "..   ...    ...\n",
       "40   4.9  134.0\n",
       "70   6.3  127.0\n",
       "26   7.0  199.0\n",
       "29   7.0  112.0\n",
       "63   6.3  128.0\n",
       "\n",
       "[90 rows x 2 columns]"
      ]
     },
     "execution_count": 36,
     "metadata": {},
     "output_type": "execute_result"
    }
   ],
   "source": [
    "X_train "
   ]
  },
  {
   "cell_type": "code",
   "execution_count": 37,
   "id": "1f8eb180-a7b1-4a31-a2d3-06d09527fcb5",
   "metadata": {},
   "outputs": [
    {
     "data": {
      "text/html": [
       "<div>\n",
       "<style scoped>\n",
       "    .dataframe tbody tr th:only-of-type {\n",
       "        vertical-align: middle;\n",
       "    }\n",
       "\n",
       "    .dataframe tbody tr th {\n",
       "        vertical-align: top;\n",
       "    }\n",
       "\n",
       "    .dataframe thead th {\n",
       "        text-align: right;\n",
       "    }\n",
       "</style>\n",
       "<table border=\"1\" class=\"dataframe\">\n",
       "  <thead>\n",
       "    <tr style=\"text-align: right;\">\n",
       "      <th></th>\n",
       "      <th>cgpa</th>\n",
       "      <th>iq</th>\n",
       "    </tr>\n",
       "  </thead>\n",
       "  <tbody>\n",
       "    <tr>\n",
       "      <th>47</th>\n",
       "      <td>5.2</td>\n",
       "      <td>161.0</td>\n",
       "    </tr>\n",
       "    <tr>\n",
       "      <th>12</th>\n",
       "      <td>5.4</td>\n",
       "      <td>139.0</td>\n",
       "    </tr>\n",
       "    <tr>\n",
       "      <th>54</th>\n",
       "      <td>6.4</td>\n",
       "      <td>141.0</td>\n",
       "    </tr>\n",
       "    <tr>\n",
       "      <th>72</th>\n",
       "      <td>7.3</td>\n",
       "      <td>116.0</td>\n",
       "    </tr>\n",
       "    <tr>\n",
       "      <th>56</th>\n",
       "      <td>6.1</td>\n",
       "      <td>65.0</td>\n",
       "    </tr>\n",
       "    <tr>\n",
       "      <th>53</th>\n",
       "      <td>8.3</td>\n",
       "      <td>168.0</td>\n",
       "    </tr>\n",
       "    <tr>\n",
       "      <th>83</th>\n",
       "      <td>7.5</td>\n",
       "      <td>130.0</td>\n",
       "    </tr>\n",
       "    <tr>\n",
       "      <th>14</th>\n",
       "      <td>6.1</td>\n",
       "      <td>103.0</td>\n",
       "    </tr>\n",
       "    <tr>\n",
       "      <th>73</th>\n",
       "      <td>4.9</td>\n",
       "      <td>61.0</td>\n",
       "    </tr>\n",
       "    <tr>\n",
       "      <th>15</th>\n",
       "      <td>5.1</td>\n",
       "      <td>176.0</td>\n",
       "    </tr>\n",
       "  </tbody>\n",
       "</table>\n",
       "</div>"
      ],
      "text/plain": [
       "    cgpa     iq\n",
       "47   5.2  161.0\n",
       "12   5.4  139.0\n",
       "54   6.4  141.0\n",
       "72   7.3  116.0\n",
       "56   6.1   65.0\n",
       "53   8.3  168.0\n",
       "83   7.5  130.0\n",
       "14   6.1  103.0\n",
       "73   4.9   61.0\n",
       "15   5.1  176.0"
      ]
     },
     "execution_count": 37,
     "metadata": {},
     "output_type": "execute_result"
    }
   ],
   "source": [
    "X_test ## random 10 rows"
   ]
  },
  {
   "cell_type": "code",
   "execution_count": 38,
   "id": "267889fb-afb3-493c-835c-162b367360a5",
   "metadata": {},
   "outputs": [
    {
     "data": {
      "text/plain": [
       "34    0\n",
       "71    1\n",
       "25    0\n",
       "44    1\n",
       "23    0\n",
       "     ..\n",
       "40    0\n",
       "70    1\n",
       "26    1\n",
       "29    1\n",
       "63    1\n",
       "Name: placement, Length: 90, dtype: int64"
      ]
     },
     "execution_count": 38,
     "metadata": {},
     "output_type": "execute_result"
    }
   ],
   "source": [
    "Y_train\n"
   ]
  },
  {
   "cell_type": "code",
   "execution_count": 39,
   "id": "b1922a40-1b72-4b97-b117-9ee72333e0b1",
   "metadata": {},
   "outputs": [
    {
     "data": {
      "text/plain": [
       "47    0\n",
       "12    0\n",
       "54    1\n",
       "72    1\n",
       "56    0\n",
       "53    1\n",
       "83    1\n",
       "14    0\n",
       "73    0\n",
       "15    0\n",
       "Name: placement, dtype: int64"
      ]
     },
     "execution_count": 39,
     "metadata": {},
     "output_type": "execute_result"
    }
   ],
   "source": [
    "Y_test ## random 10 rows for testing "
   ]
  },
  {
   "cell_type": "code",
   "execution_count": 41,
   "id": "54590fc5-c169-436b-a55e-d292bfa8f7e6",
   "metadata": {},
   "outputs": [
    {
     "data": {
      "text/plain": [
       "array([[-1.02152013,  0.99422897],\n",
       "       [ 0.11891742,  0.21766155],\n",
       "       [-0.8460682 , -0.80941149],\n",
       "       [ 1.34708094, -1.56092835],\n",
       "       [-1.1092461 , -0.90961374],\n",
       "       [-0.49516434, -0.23324857],\n",
       "       [-0.67061627, -0.83446205],\n",
       "       [ 1.25935497,  0.21766155],\n",
       "       [ 1.171629  , -0.9346643 ],\n",
       "       [-0.93379416,  1.82089751],\n",
       "       [ 0.11891742, -1.05991711],\n",
       "       [ 0.03119145,  0.01725705],\n",
       "       [-0.05653451, -0.43365306],\n",
       "       [-0.8460682 , -0.13304632],\n",
       "       [-1.72332785, -0.58395643],\n",
       "       [-0.49516434, -0.4086025 ],\n",
       "       [-1.02152013,  1.14453234],\n",
       "       [-0.14426048,  0.46816717],\n",
       "       [ 0.55754725, -0.08294519],\n",
       "       [ 0.73299918,  0.44311661],\n",
       "       [-1.37242399, -2.03688902],\n",
       "       [-0.49516434,  0.29281323],\n",
       "       [-0.23198644,  0.21766155],\n",
       "       [-0.23198644,  1.14453234],\n",
       "       [-0.67061627,  2.52231325],\n",
       "       [ 0.11891742,  0.81887504],\n",
       "       [ 0.82072514,  0.39301548],\n",
       "       [ 0.03119145, -0.53385531],\n",
       "       [ 1.78571076, -1.11001823],\n",
       "       [ 0.90845111, -1.48577666],\n",
       "       [ 1.34708094,  0.86897616],\n",
       "       [ 0.38209532, -0.18314744],\n",
       "       [ 0.73299918, -0.28334969],\n",
       "       [-1.19697206,  0.56836942],\n",
       "       [-0.93379416,  0.79382447],\n",
       "       [ 0.99617707,  0.69362223],\n",
       "       [-1.37242399,  0.6435211 ],\n",
       "       [ 1.4348069 ,  0.1174593 ],\n",
       "       [-0.67061627, -0.33345081],\n",
       "       [ 1.171629  , -1.83648453],\n",
       "       [ 0.03119145,  0.6435211 ],\n",
       "       [-1.46014996,  1.92109976],\n",
       "       [-0.67061627,  0.21766155],\n",
       "       [-1.72332785, -1.21022048],\n",
       "       [-0.8460682 , -1.51082722],\n",
       "       [ 0.73299918, -0.83446205],\n",
       "       [-2.16195768,  2.7477683 ],\n",
       "       [-1.1092461 , -0.05789463],\n",
       "       [ 0.46982128,  0.16756043],\n",
       "       [-2.33740961,  1.49524021],\n",
       "       [ 0.55754725,  0.36796492],\n",
       "       [ 0.82072514, -0.68415868],\n",
       "       [ 1.171629  ,  0.34291436],\n",
       "       [-0.75834223,  0.1174593 ],\n",
       "       [-1.02152013, -0.28334969],\n",
       "       [ 1.87343673,  1.06938065],\n",
       "       [ 0.46982128, -0.83446205],\n",
       "       [-0.75834223, -1.43567554],\n",
       "       [ 0.73299918, -0.00779351],\n",
       "       [ 0.64527321,  1.47018965],\n",
       "       [ 0.90845111,  0.39301548],\n",
       "       [-1.81105382, -0.35850138],\n",
       "       [-1.1092461 , -1.78638341],\n",
       "       [-0.23198644,  0.41806604],\n",
       "       [ 0.20664339, -0.25829913],\n",
       "       [-1.02152013,  0.44311661],\n",
       "       [ 0.64527321,  0.76877391],\n",
       "       [-0.14426048,  1.06938065],\n",
       "       [ 0.99617707, -1.88658565],\n",
       "       [-0.23198644,  0.49321773],\n",
       "       [ 1.61025883, -0.23324857],\n",
       "       [ 0.82072514,  0.36796492],\n",
       "       [ 0.29436935, -0.50880475],\n",
       "       [-0.5828903 , -0.05789463],\n",
       "       [ 0.03119145, -1.96173734],\n",
       "       [ 0.46982128, -2.16214183],\n",
       "       [ 0.90845111,  1.29483571],\n",
       "       [-0.5828903 , -0.23324857],\n",
       "       [ 0.03119145, -1.43567554],\n",
       "       [-0.93379416,  0.69362223],\n",
       "       [ 1.87343673,  0.6435211 ],\n",
       "       [ 2.22434059, -0.08294519],\n",
       "       [ 1.4348069 , -0.85951261],\n",
       "       [-0.93379416, -0.08294519],\n",
       "       [ 0.46982128,  0.91907728],\n",
       "       [-0.93379416,  0.26776267],\n",
       "       [ 0.29436935,  0.09240874],\n",
       "       [ 0.90845111,  1.8960492 ],\n",
       "       [ 0.90845111, -0.28334969],\n",
       "       [ 0.29436935,  0.1174593 ]])"
      ]
     },
     "execution_count": 41,
     "metadata": {},
     "output_type": "execute_result"
    }
   ],
   "source": [
    "from sklearn.preprocessing import StandardScaler\n",
    "scaler = StandardScaler()\n",
    "X_train = scaler.fit_transform(X_train) ## used to scale down the vlaues betwwen 0 and 1 \n",
    "X_train"
   ]
  },
  {
   "cell_type": "code",
   "execution_count": 44,
   "id": "25cd89a2-33a3-4dfb-8bc6-86df6cdb693c",
   "metadata": {},
   "outputs": [
    {
     "data": {
      "text/plain": [
       "array([[-0.94415978,  0.9199702 ],\n",
       "       [-0.76082779,  0.34170322],\n",
       "       [ 0.1558322 ,  0.39427294],\n",
       "       [ 0.98082618, -0.26284863],\n",
       "       [-0.1191658 , -1.60337664],\n",
       "       [ 1.89748616,  1.10396424],\n",
       "       [ 1.16415818,  0.10513945],\n",
       "       [-0.1191658 , -0.60455185],\n",
       "       [-1.21915778, -1.70851609],\n",
       "       [-1.03582578,  1.31424314]])"
      ]
     },
     "execution_count": 44,
     "metadata": {},
     "output_type": "execute_result"
    }
   ],
   "source": [
    "X_test = scaler.fit_transform(X_test)\n",
    "X_test"
   ]
  },
  {
   "cell_type": "markdown",
   "id": "c92cc98e-a58d-4f7b-95e6-d1b6d62ba797",
   "metadata": {},
   "source": [
    "### Train the modal "
   ]
  },
  {
   "cell_type": "markdown",
   "id": "069b3df8-c9cf-4f19-bf83-bba9d342ec06",
   "metadata": {},
   "source": [
    "from sklearn.linear_model import LogisticRegression\n",
    "clf = LogisticRegression()  ## logistic regression object creation \n",
    "clf.fit(X_train,Y_train)"
   ]
  },
  {
   "cell_type": "code",
   "execution_count": 48,
   "id": "71f99891-97c8-4fa9-aeeb-d0c9f722dec7",
   "metadata": {},
   "outputs": [
    {
     "data": {
      "text/plain": [
       "47    0\n",
       "12    0\n",
       "54    1\n",
       "72    1\n",
       "56    0\n",
       "53    1\n",
       "83    1\n",
       "14    0\n",
       "73    0\n",
       "15    0\n",
       "Name: placement, dtype: int64"
      ]
     },
     "execution_count": 48,
     "metadata": {},
     "output_type": "execute_result"
    }
   ],
   "source": [
    "Y_pred = clf.predict(X_test) ## test the modal with training data\n",
    "## output ->  array([0, 0, 1, 1, 1, 1, 1, 0, 0, 0])\n",
    "Y_test   # compare the Y_pred with the Y_test to know the accuracy of the modal "
   ]
  },
  {
   "cell_type": "markdown",
   "id": "176c3de6-0ef7-49d5-9fa3-2d32b45bfd0f",
   "metadata": {},
   "source": [
    "### find accuracy "
   ]
  },
  {
   "cell_type": "code",
   "execution_count": 51,
   "id": "0aa73457-f8f6-4bf2-97f3-8c8405f88d38",
   "metadata": {},
   "outputs": [
    {
     "data": {
      "text/plain": [
       "0.9"
      ]
     },
     "execution_count": 51,
     "metadata": {},
     "output_type": "execute_result"
    }
   ],
   "source": [
    "from sklearn.metrics import accuracy_score\n",
    "accuracy_score(Y_pred,Y_test)  ## gives accuracy"
   ]
  },
  {
   "cell_type": "markdown",
   "id": "dcf1246a-edb5-40e9-a18c-99a7bbef5279",
   "metadata": {},
   "source": [
    " ## visulaize the decesion boundary created by the algo"
   ]
  },
  {
   "cell_type": "code",
   "execution_count": 59,
   "id": "b6565b2a-c71a-420b-908c-48ca1d870201",
   "metadata": {},
   "outputs": [
    {
     "name": "stdout",
     "output_type": "stream",
     "text": [
      "Requirement already satisfied: mlxtend in e:\\anacondas\\lib\\site-packages (0.23.4)\n",
      "Requirement already satisfied: scipy>=1.2.1 in e:\\anacondas\\lib\\site-packages (from mlxtend) (1.15.3)\n",
      "Requirement already satisfied: numpy>=1.16.2 in e:\\anacondas\\lib\\site-packages (from mlxtend) (2.1.3)\n",
      "Requirement already satisfied: pandas>=0.24.2 in e:\\anacondas\\lib\\site-packages (from mlxtend) (2.2.3)\n",
      "Requirement already satisfied: scikit-learn>=1.3.1 in e:\\anacondas\\lib\\site-packages (from mlxtend) (1.6.1)\n",
      "Requirement already satisfied: matplotlib>=3.0.0 in e:\\anacondas\\lib\\site-packages (from mlxtend) (3.10.0)\n",
      "Requirement already satisfied: joblib>=0.13.2 in e:\\anacondas\\lib\\site-packages (from mlxtend) (1.4.2)\n",
      "Requirement already satisfied: contourpy>=1.0.1 in e:\\anacondas\\lib\\site-packages (from matplotlib>=3.0.0->mlxtend) (1.3.1)\n",
      "Requirement already satisfied: cycler>=0.10 in e:\\anacondas\\lib\\site-packages (from matplotlib>=3.0.0->mlxtend) (0.11.0)\n",
      "Requirement already satisfied: fonttools>=4.22.0 in e:\\anacondas\\lib\\site-packages (from matplotlib>=3.0.0->mlxtend) (4.55.3)\n",
      "Requirement already satisfied: kiwisolver>=1.3.1 in e:\\anacondas\\lib\\site-packages (from matplotlib>=3.0.0->mlxtend) (1.4.8)\n",
      "Requirement already satisfied: packaging>=20.0 in e:\\anacondas\\lib\\site-packages (from matplotlib>=3.0.0->mlxtend) (24.2)\n",
      "Requirement already satisfied: pillow>=8 in e:\\anacondas\\lib\\site-packages (from matplotlib>=3.0.0->mlxtend) (11.1.0)\n",
      "Requirement already satisfied: pyparsing>=2.3.1 in e:\\anacondas\\lib\\site-packages (from matplotlib>=3.0.0->mlxtend) (3.2.0)\n",
      "Requirement already satisfied: python-dateutil>=2.7 in e:\\anacondas\\lib\\site-packages (from matplotlib>=3.0.0->mlxtend) (2.9.0.post0)\n",
      "Requirement already satisfied: pytz>=2020.1 in e:\\anacondas\\lib\\site-packages (from pandas>=0.24.2->mlxtend) (2024.1)\n",
      "Requirement already satisfied: tzdata>=2022.7 in e:\\anacondas\\lib\\site-packages (from pandas>=0.24.2->mlxtend) (2025.2)\n",
      "Requirement already satisfied: six>=1.5 in e:\\anacondas\\lib\\site-packages (from python-dateutil>=2.7->matplotlib>=3.0.0->mlxtend) (1.17.0)\n",
      "Requirement already satisfied: threadpoolctl>=3.1.0 in e:\\anacondas\\lib\\site-packages (from scikit-learn>=1.3.1->mlxtend) (3.5.0)\n"
     ]
    }
   ],
   "source": [
    "!pip install mlxtend\n",
    "from mlxtend.plotting import plot_decision_regions"
   ]
  },
  {
   "cell_type": "code",
   "execution_count": 65,
   "id": "b16de9c1-3f00-4895-ab6b-771138f21270",
   "metadata": {},
   "outputs": [
    {
     "data": {
      "text/plain": [
       "<Axes: >"
      ]
     },
     "execution_count": 65,
     "metadata": {},
     "output_type": "execute_result"
    },
    {
     "data": {
      "image/png": "[encoded data removed]",
      "text/plain": [
       "<Figure size 640x480 with 1 Axes>"
      ]
     },
     "metadata": {},
     "output_type": "display_data"
    }
   ],
   "source": [
    "plot_decision_regions(X_train,Y_train.values,clf=clf,legend=2)  ## Y_train.values is used to create it to an numpy array "
   ]
  },
  {
   "cell_type": "code",
   "execution_count": 66,
   "id": "f98ab2cd-60f5-4031-8f59-1e0db526f12f",
   "metadata": {},
   "outputs": [],
   "source": [
    "import pickle  ## used to export the modal\n",
    "pickle.dump(clf,open('model.pkl','wb'))"
   ]
  },
  {
   "cell_type": "code",
   "execution_count": null,
   "id": "373da62b-a99c-49a2-9787-0f11e2cf5126",
   "metadata": {},
   "outputs": [],
   "source": []
  }
 ],
 "metadata": {
  "kernelspec": {
   "display_name": "Python 3 (ipykernel)",
   "language": "python",
   "name": "python3"
  },
  "language_info": {
   "codemirror_mode": {
    "name": "ipython",
    "version": 3
   },
   "file_extension": ".py",
   "mimetype": "text/x-python",
   "name": "python",
   "nbconvert_exporter": "python",
   "pygments_lexer": "ipython3",
   "version": "3.13.5"
  }
 },
 "nbformat": 4,
 "nbformat_minor": 5
}
