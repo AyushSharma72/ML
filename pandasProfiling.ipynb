{
 "cells": [
  {
   "cell_type": "code",
   "execution_count": 2,
   "id": "118f350d-8e85-47fc-bce1-00db5fb7f933",
   "metadata": {},
   "outputs": [],
   "source": [
    "import pandas as pd"
   ]
  },
  {
   "cell_type": "code",
   "execution_count": 3,
   "id": "88c253a3-e12d-4a29-b00a-0f25630ad920",
   "metadata": {},
   "outputs": [],
   "source": [
    "df = pd.read_csv('./Data_files/titanic.csv')"
   ]
  },
  {
   "cell_type": "code",
   "execution_count": 4,
   "id": "55098fc6-de60-4b34-ae85-e75c1421b2f4",
   "metadata": {},
   "outputs": [
    {
     "data": {
      "text/html": [
       "<div>\n",
       "<style scoped>\n",
       "    .dataframe tbody tr th:only-of-type {\n",
       "        vertical-align: middle;\n",
       "    }\n",
       "\n",
       "    .dataframe tbody tr th {\n",
       "        vertical-align: top;\n",
       "    }\n",
       "\n",
       "    .dataframe thead th {\n",
       "        text-align: right;\n",
       "    }\n",
       "</style>\n",
       "<table border=\"1\" class=\"dataframe\">\n",
       "  <thead>\n",
       "    <tr style=\"text-align: right;\">\n",
       "      <th></th>\n",
       "      <th>PassengerId</th>\n",
       "      <th>Survived</th>\n",
       "      <th>Pclass</th>\n",
       "      <th>Name</th>\n",
       "      <th>Sex</th>\n",
       "      <th>Age</th>\n",
       "      <th>SibSp</th>\n",
       "      <th>Parch</th>\n",
       "      <th>Ticket</th>\n",
       "      <th>Fare</th>\n",
       "      <th>Cabin</th>\n",
       "      <th>Embarked</th>\n",
       "    </tr>\n",
       "  </thead>\n",
       "  <tbody>\n",
       "    <tr>\n",
       "      <th>0</th>\n",
       "      <td>892</td>\n",
       "      <td>0</td>\n",
       "      <td>3</td>\n",
       "      <td>Kelly, Mr. James</td>\n",
       "      <td>male</td>\n",
       "      <td>34.5</td>\n",
       "      <td>0</td>\n",
       "      <td>0</td>\n",
       "      <td>330911</td>\n",
       "      <td>7.8292</td>\n",
       "      <td>NaN</td>\n",
       "      <td>Q</td>\n",
       "    </tr>\n",
       "    <tr>\n",
       "      <th>1</th>\n",
       "      <td>893</td>\n",
       "      <td>1</td>\n",
       "      <td>3</td>\n",
       "      <td>Wilkes, Mrs. James (Ellen Needs)</td>\n",
       "      <td>female</td>\n",
       "      <td>47.0</td>\n",
       "      <td>1</td>\n",
       "      <td>0</td>\n",
       "      <td>363272</td>\n",
       "      <td>7.0000</td>\n",
       "      <td>NaN</td>\n",
       "      <td>S</td>\n",
       "    </tr>\n",
       "    <tr>\n",
       "      <th>2</th>\n",
       "      <td>894</td>\n",
       "      <td>0</td>\n",
       "      <td>2</td>\n",
       "      <td>Myles, Mr. Thomas Francis</td>\n",
       "      <td>male</td>\n",
       "      <td>62.0</td>\n",
       "      <td>0</td>\n",
       "      <td>0</td>\n",
       "      <td>240276</td>\n",
       "      <td>9.6875</td>\n",
       "      <td>NaN</td>\n",
       "      <td>Q</td>\n",
       "    </tr>\n",
       "    <tr>\n",
       "      <th>3</th>\n",
       "      <td>895</td>\n",
       "      <td>0</td>\n",
       "      <td>3</td>\n",
       "      <td>Wirz, Mr. Albert</td>\n",
       "      <td>male</td>\n",
       "      <td>27.0</td>\n",
       "      <td>0</td>\n",
       "      <td>0</td>\n",
       "      <td>315154</td>\n",
       "      <td>8.6625</td>\n",
       "      <td>NaN</td>\n",
       "      <td>S</td>\n",
       "    </tr>\n",
       "    <tr>\n",
       "      <th>4</th>\n",
       "      <td>896</td>\n",
       "      <td>1</td>\n",
       "      <td>3</td>\n",
       "      <td>Hirvonen, Mrs. Alexander (Helga E Lindqvist)</td>\n",
       "      <td>female</td>\n",
       "      <td>22.0</td>\n",
       "      <td>1</td>\n",
       "      <td>1</td>\n",
       "      <td>3101298</td>\n",
       "      <td>12.2875</td>\n",
       "      <td>NaN</td>\n",
       "      <td>S</td>\n",
       "    </tr>\n",
       "  </tbody>\n",
       "</table>\n",
       "</div>"
      ],
      "text/plain": [
       "   PassengerId  Survived  Pclass  \\\n",
       "0          892         0       3   \n",
       "1          893         1       3   \n",
       "2          894         0       2   \n",
       "3          895         0       3   \n",
       "4          896         1       3   \n",
       "\n",
       "                                           Name     Sex   Age  SibSp  Parch  \\\n",
       "0                              Kelly, Mr. James    male  34.5      0      0   \n",
       "1              Wilkes, Mrs. James (Ellen Needs)  female  47.0      1      0   \n",
       "2                     Myles, Mr. Thomas Francis    male  62.0      0      0   \n",
       "3                              Wirz, Mr. Albert    male  27.0      0      0   \n",
       "4  Hirvonen, Mrs. Alexander (Helga E Lindqvist)  female  22.0      1      1   \n",
       "\n",
       "    Ticket     Fare Cabin Embarked  \n",
       "0   330911   7.8292   NaN        Q  \n",
       "1   363272   7.0000   NaN        S  \n",
       "2   240276   9.6875   NaN        Q  \n",
       "3   315154   8.6625   NaN        S  \n",
       "4  3101298  12.2875   NaN        S  "
      ]
     },
     "execution_count": 4,
     "metadata": {},
     "output_type": "execute_result"
    }
   ],
   "source": [
    "df.head()"
   ]
  },
  {
   "cell_type": "code",
   "execution_count": 7,
   "id": "62b7ff0a-29b6-42f6-9cff-5c1cd854dfcb",
   "metadata": {},
   "outputs": [
    {
     "name": "stdout",
     "output_type": "stream",
     "text": [
      "Requirement already satisfied: ydata-profiling in e:\\anacondas\\lib\\site-packages (4.17.0)\n",
      "Requirement already satisfied: scipy<1.16,>=1.4.1 in e:\\anacondas\\lib\\site-packages (from ydata-profiling) (1.15.3)\n",
      "Requirement already satisfied: pandas!=1.4.0,<3.0,>1.1 in e:\\anacondas\\lib\\site-packages (from ydata-profiling) (2.2.3)\n",
      "Requirement already satisfied: matplotlib<=3.10,>=3.5 in e:\\anacondas\\lib\\site-packages (from ydata-profiling) (3.10.0)\n",
      "Requirement already satisfied: pydantic>=2 in e:\\anacondas\\lib\\site-packages (from ydata-profiling) (2.10.3)\n",
      "Requirement already satisfied: PyYAML<6.1,>=5.0.0 in e:\\anacondas\\lib\\site-packages (from ydata-profiling) (6.0.2)\n",
      "Requirement already satisfied: jinja2<3.2,>=2.11.1 in e:\\anacondas\\lib\\site-packages (from ydata-profiling) (3.1.6)\n",
      "Requirement already satisfied: visions<0.8.2,>=0.7.5 in e:\\anacondas\\lib\\site-packages (from visions[type_image_path]<0.8.2,>=0.7.5->ydata-profiling) (0.8.1)\n",
      "Requirement already satisfied: numpy<2.2,>=1.16.0 in e:\\anacondas\\lib\\site-packages (from ydata-profiling) (2.1.3)\n",
      "Requirement already satisfied: minify-html>=0.15.0 in e:\\anacondas\\lib\\site-packages (from ydata-profiling) (0.18.1)\n",
      "Requirement already satisfied: filetype>=1.0.0 in e:\\anacondas\\lib\\site-packages (from ydata-profiling) (1.2.0)\n",
      "Requirement already satisfied: phik<0.13,>=0.11.1 in e:\\anacondas\\lib\\site-packages (from ydata-profiling) (0.12.5)\n",
      "Requirement already satisfied: requests<3,>=2.24.0 in e:\\anacondas\\lib\\site-packages (from ydata-profiling) (2.32.3)\n",
      "Requirement already satisfied: tqdm<5,>=4.48.2 in e:\\anacondas\\lib\\site-packages (from ydata-profiling) (4.67.1)\n",
      "Requirement already satisfied: seaborn<0.14,>=0.10.1 in e:\\anacondas\\lib\\site-packages (from ydata-profiling) (0.13.2)\n",
      "Requirement already satisfied: multimethod<2,>=1.4 in e:\\anacondas\\lib\\site-packages (from ydata-profiling) (1.12)\n",
      "Requirement already satisfied: statsmodels<1,>=0.13.2 in e:\\anacondas\\lib\\site-packages (from ydata-profiling) (0.14.4)\n",
      "Requirement already satisfied: typeguard<5,>=3 in e:\\anacondas\\lib\\site-packages (from ydata-profiling) (4.4.4)\n",
      "Requirement already satisfied: imagehash==4.3.1 in e:\\anacondas\\lib\\site-packages (from ydata-profiling) (4.3.1)\n",
      "Requirement already satisfied: wordcloud>=1.9.3 in e:\\anacondas\\lib\\site-packages (from ydata-profiling) (1.9.4)\n",
      "Requirement already satisfied: dacite>=1.8 in e:\\anacondas\\lib\\site-packages (from ydata-profiling) (1.9.2)\n",
      "Requirement already satisfied: numba<=0.61,>=0.56.0 in e:\\anacondas\\lib\\site-packages (from ydata-profiling) (0.61.0)\n",
      "Requirement already satisfied: PyWavelets in e:\\anacondas\\lib\\site-packages (from imagehash==4.3.1->ydata-profiling) (1.8.0)\n",
      "Requirement already satisfied: pillow in e:\\anacondas\\lib\\site-packages (from imagehash==4.3.1->ydata-profiling) (11.1.0)\n",
      "Requirement already satisfied: MarkupSafe>=2.0 in e:\\anacondas\\lib\\site-packages (from jinja2<3.2,>=2.11.1->ydata-profiling) (3.0.2)\n",
      "Requirement already satisfied: contourpy>=1.0.1 in e:\\anacondas\\lib\\site-packages (from matplotlib<=3.10,>=3.5->ydata-profiling) (1.3.1)\n",
      "Requirement already satisfied: cycler>=0.10 in e:\\anacondas\\lib\\site-packages (from matplotlib<=3.10,>=3.5->ydata-profiling) (0.11.0)\n",
      "Requirement already satisfied: fonttools>=4.22.0 in e:\\anacondas\\lib\\site-packages (from matplotlib<=3.10,>=3.5->ydata-profiling) (4.55.3)\n",
      "Requirement already satisfied: kiwisolver>=1.3.1 in e:\\anacondas\\lib\\site-packages (from matplotlib<=3.10,>=3.5->ydata-profiling) (1.4.8)\n",
      "Requirement already satisfied: packaging>=20.0 in e:\\anacondas\\lib\\site-packages (from matplotlib<=3.10,>=3.5->ydata-profiling) (24.2)\n",
      "Requirement already satisfied: pyparsing>=2.3.1 in e:\\anacondas\\lib\\site-packages (from matplotlib<=3.10,>=3.5->ydata-profiling) (3.2.0)\n",
      "Requirement already satisfied: python-dateutil>=2.7 in e:\\anacondas\\lib\\site-packages (from matplotlib<=3.10,>=3.5->ydata-profiling) (2.9.0.post0)\n",
      "Requirement already satisfied: llvmlite<0.45,>=0.44.0dev0 in e:\\anacondas\\lib\\site-packages (from numba<=0.61,>=0.56.0->ydata-profiling) (0.44.0)\n",
      "Requirement already satisfied: pytz>=2020.1 in e:\\anacondas\\lib\\site-packages (from pandas!=1.4.0,<3.0,>1.1->ydata-profiling) (2024.1)\n",
      "Requirement already satisfied: tzdata>=2022.7 in e:\\anacondas\\lib\\site-packages (from pandas!=1.4.0,<3.0,>1.1->ydata-profiling) (2025.2)\n",
      "Requirement already satisfied: joblib>=0.14.1 in e:\\anacondas\\lib\\site-packages (from phik<0.13,>=0.11.1->ydata-profiling) (1.4.2)\n",
      "Requirement already satisfied: charset-normalizer<4,>=2 in e:\\anacondas\\lib\\site-packages (from requests<3,>=2.24.0->ydata-profiling) (3.3.2)\n",
      "Requirement already satisfied: idna<4,>=2.5 in e:\\anacondas\\lib\\site-packages (from requests<3,>=2.24.0->ydata-profiling) (3.7)\n",
      "Requirement already satisfied: urllib3<3,>=1.21.1 in e:\\anacondas\\lib\\site-packages (from requests<3,>=2.24.0->ydata-profiling) (2.3.0)\n",
      "Requirement already satisfied: certifi>=2017.4.17 in e:\\anacondas\\lib\\site-packages (from requests<3,>=2.24.0->ydata-profiling) (2025.8.3)\n",
      "Requirement already satisfied: patsy>=0.5.6 in e:\\anacondas\\lib\\site-packages (from statsmodels<1,>=0.13.2->ydata-profiling) (1.0.1)\n",
      "Requirement already satisfied: colorama in e:\\anacondas\\lib\\site-packages (from tqdm<5,>=4.48.2->ydata-profiling) (0.4.6)\n",
      "Requirement already satisfied: typing_extensions>=4.14.0 in e:\\anacondas\\lib\\site-packages (from typeguard<5,>=3->ydata-profiling) (4.15.0)\n",
      "Requirement already satisfied: attrs>=19.3.0 in e:\\anacondas\\lib\\site-packages (from visions<0.8.2,>=0.7.5->visions[type_image_path]<0.8.2,>=0.7.5->ydata-profiling) (24.3.0)\n",
      "Requirement already satisfied: networkx>=2.4 in e:\\anacondas\\lib\\site-packages (from visions<0.8.2,>=0.7.5->visions[type_image_path]<0.8.2,>=0.7.5->ydata-profiling) (3.4.2)\n",
      "Requirement already satisfied: puremagic in e:\\anacondas\\lib\\site-packages (from visions<0.8.2,>=0.7.5->visions[type_image_path]<0.8.2,>=0.7.5->ydata-profiling) (1.30)\n",
      "Requirement already satisfied: annotated-types>=0.6.0 in e:\\anacondas\\lib\\site-packages (from pydantic>=2->ydata-profiling) (0.6.0)\n",
      "Requirement already satisfied: pydantic-core==2.27.1 in e:\\anacondas\\lib\\site-packages (from pydantic>=2->ydata-profiling) (2.27.1)\n",
      "Requirement already satisfied: six>=1.5 in e:\\anacondas\\lib\\site-packages (from python-dateutil>=2.7->matplotlib<=3.10,>=3.5->ydata-profiling) (1.17.0)\n"
     ]
    }
   ],
   "source": [
    "!pip install ydata-profiling"
   ]
  },
  {
   "cell_type": "code",
   "execution_count": 10,
   "id": "1d426496-88d5-4077-8724-31e2a790b752",
   "metadata": {},
   "outputs": [
    {
     "data": {
      "application/vnd.jupyter.widget-view+json": {
       "model_id": "619e7bd979c74e55bf7dda087e03def1",
       "version_major": 2,
       "version_minor": 0
      },
      "text/plain": [
       "Summarize dataset:   0%|          | 0/5 [00:00<?, ?it/s]"
      ]
     },
     "metadata": {},
     "output_type": "display_data"
    },
    {
     "name": "stderr",
     "output_type": "stream",
     "text": [
      "\n",
      "100%|█████████████████████████████████████████████████████████████████████████████████| 12/12 [00:00<00:00, 208.51it/s]\n"
     ]
    },
    {
     "data": {
      "application/vnd.jupyter.widget-view+json": {
       "model_id": "eea69abdf3b34c9aaecff12b2f7cf92f",
       "version_major": 2,
       "version_minor": 0
      },
      "text/plain": [
       "Generate report structure:   0%|          | 0/1 [00:00<?, ?it/s]"
      ]
     },
     "metadata": {},
     "output_type": "display_data"
    },
    {
     "data": {
      "application/vnd.jupyter.widget-view+json": {
       "model_id": "42d979ddf5cd4d259981c4be066f3dd3",
       "version_major": 2,
       "version_minor": 0
      },
      "text/plain": [
       "Render HTML:   0%|          | 0/1 [00:00<?, ?it/s]"
      ]
     },
     "metadata": {},
     "output_type": "display_data"
    },
    {
     "data": {
      "application/vnd.jupyter.widget-view+json": {
       "model_id": "a14eb30ae4b84009bf0b9452e61adf61",
       "version_major": 2,
       "version_minor": 0
      },
      "text/plain": [
       "Export report to file:   0%|          | 0/1 [00:00<?, ?it/s]"
      ]
     },
     "metadata": {},
     "output_type": "display_data"
    }
   ],
   "source": [
    "from ydata_profiling import ProfileReport\n",
    "profile = ProfileReport(df, title=\"Profiling Report\", explorative=True)\n",
    "profile.to_file(\"profiling.html\")"
   ]
  },
  {
   "cell_type": "code",
   "execution_count": null,
   "id": "abb3522c-692d-4974-bc31-6e9ecd3953ed",
   "metadata": {},
   "outputs": [],
   "source": []
  }
 ],
 "metadata": {
  "kernelspec": {
   "display_name": "Python [conda env:base] *",
   "language": "python",
   "name": "conda-base-py"
  },
  "language_info": {
   "codemirror_mode": {
    "name": "ipython",
    "version": 3
   },
   "file_extension": ".py",
   "mimetype": "text/x-python",
   "name": "python",
   "nbconvert_exporter": "python",
   "pygments_lexer": "ipython3",
   "version": "3.13.5"
  }
 },
 "nbformat": 4,
 "nbformat_minor": 5
}
